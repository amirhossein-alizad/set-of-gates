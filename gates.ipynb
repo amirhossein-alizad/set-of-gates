{
 "cells": [
  {
   "cell_type": "markdown",
   "metadata": {},
   "source": [
    "# AI CA2\n",
    "# Amirhossein Alizad 810197546\n",
    "# Genetic Algorithms\n"
   ]
  },
  {
   "cell_type": "markdown",
   "metadata": {},
   "source": [
    "<strong>in this computer assignment we are going to use Genetic algorithms and improving them</strong><br>\n",
    "<strong>we are going to use crossover and mutation algorithms on our generation and create a new generation which should be better than our last generation of chromosomes</strong><br>\n",
    "<strong>for this assignment we should find a set of gates that the output of their combination should match every output in our file</strong><br>\n",
    "<strong>first we need to define some concepts</strong><br>\n"
   ]
  },
  {
   "cell_type": "markdown",
   "metadata": {},
   "source": [
    "### chromosome:\n",
    "<strong>a set of gates, we have 6 kinds of gates, AND-OR-XOR-NAND-NOR-XNOR and in this case, each chromosome consists of 9 gates</strong><br>\n",
    "<br>\n",
    "### gene:\n",
    "<strong> each gate in a chromosome is called a gene. genes are given a number between 1 to 6.<br>\n",
    "1 : AND<br>\n",
    "2 : OR<br>\n",
    "3 : XOR<br>\n",
    "4 : NAND<br>\n",
    "5 : NOR<br>\n",
    "6 : XNOR<br>\n",
    "</strong>\n",
    "<br>\n",
    "### first population:\n",
    "<strong> a set of chromosome which we told in this problem each chromosome has 9 gates. the size of our population is 2<sup>gates-1</sup> and in this problem, 256.</strong><br>\n",
    "<br>\n",
    "### fitness: \n",
    "<strong> here we considerd fitness the number of outputs which are the same as  given in our file.<br>\n",
    "for example for a chromosome we test all th set of inputs and when the output is the same as output given in file we increase the fitness<br>\n",
    "here we powered the fitness by 5 for higher possibilities.</strong>\n",
    "<br>\n",
    "\n",
    "### probability:\n",
    "<strong> shows the possibility of each chromosome. we showed this with 'p'.<br>\n",
    "$P_i$ = $fitness_i$ / $\\sum_j^n fitness_j$<br></strong>\n",
    "<br>\n"
   ]
  },
  {
   "cell_type": "code",
   "execution_count": 1,
   "metadata": {},
   "outputs": [],
   "source": [
    "import pandas as pd\n",
    "import random\n",
    "import time\n",
    "import copy\n",
    "from numpy.random import choice\n",
    "from numpy import arange"
   ]
  },
  {
   "cell_type": "code",
   "execution_count": 2,
   "metadata": {},
   "outputs": [],
   "source": [
    "def AND(in1, in2):\n",
    "    return (in1 & in2)\n",
    "\n",
    "def OR(in1, in2):\n",
    "    return (in1 | in2)\n",
    "\n",
    "def XOR(in1, in2):\n",
    "    return (in1 ^ in2)\n",
    "\n",
    "def NAND(in1, in2):\n",
    "    return ~(in1 & in2)\n",
    "\n",
    "def NOR(in1, in2):\n",
    "    return ~(in1 |in2)\n",
    "\n",
    "def XNOR(in1, in2):\n",
    "    return ~(in1 ^ in2)\n",
    "\n",
    "def fitness_calc(population, df):\n",
    "    df_pop = pd.DataFrame(population)\n",
    "    df_fit = df_pop.apply(lambda x: calc_fitness(df, x), axis = 1)\n",
    "    fitness = df_fit.tolist()\n",
    "    return [x**5 for x in fitness]\n",
    "\n",
    "def calc_fitness(df, row):\n",
    "    lst = [j for j in row]\n",
    "    tmp = [df[i] for i in df]\n",
    "    ans = [False for i in range(len(lst) + 1)]\n",
    "    ans[0] = tmp.pop(0)\n",
    "    out = tmp.pop()\n",
    "    for i in range(len(lst)):\n",
    "        if lst[i] == 1:\n",
    "            ans[i + 1] = AND(tmp[i], ans[i])\n",
    "        elif lst[i] == 2:\n",
    "            ans[i + 1] = OR(tmp[i], ans[i])  \n",
    "        elif lst[i] == 3:\n",
    "            ans[i + 1] = XOR(tmp[i], ans[i])\n",
    "        elif lst[i] == 4:\n",
    "            ans[i + 1] = NAND(tmp[i], ans[i])\n",
    "        elif lst[i] == 5:\n",
    "            ans[i + 1] = NOR(tmp[i], ans[i])\n",
    "        else:\n",
    "            ans[i + 1] = XNOR(tmp[i], ans[i])\n",
    "    return (ans[-1] == out).sum()\n",
    "\n",
    "\n",
    "def crossover(ch1,ch2,gates):\n",
    "    sep = random.randint(1,gates - 1)\n",
    "    ans1 = ch1[ : sep + 1] + ch2[sep + 1 : ]\n",
    "    ans2 = ch2[ : sep + 1] + ch1[sep + 1 : ]\n",
    "    return ans1, ans2\n",
    "\n",
    "def create_gen(population, gates, probability, pc, pm):\n",
    "    new_pop = []\n",
    "    length = len(population)/2\n",
    "    i = 0\n",
    "    while(i < length):\n",
    "        idx = choice(arange(0, len(population)),2,replace=False, p=probability)\n",
    "        new_gen1 = population[idx[0]]\n",
    "        new_gen2 = population[idx[1]]\n",
    "        if random.random() < pc:\n",
    "            new_gen1, new_gen2 = crossover(population[idx[0]], population[idx[1]], gates)\n",
    "            if random.random() < pm:\n",
    "                new_gen1[random.randint(0,gates - 1)] = random.randint(1,6)\n",
    "            if random.random() < pm:\n",
    "                new_gen2[random.randint(0,gates - 1)] = random.randint(1,6)\n",
    "        new_pop.append(new_gen1)\n",
    "        new_pop.append(new_gen2)\n",
    "        i += 1\n",
    "    return new_pop\n"
   ]
  },
  {
   "cell_type": "markdown",
   "metadata": {},
   "source": [
    "<strong> as shown above first we chose 2 random numbers according to our possibility(as we discussed before).<br>\n",
    "then we generate a random number between 0 an 1 and if it was less than $P_c$ we start crossover and if it wasn't, then we move those two chromosomes to our next generation.</strong><br>\n",
    "<strong> for crossover we first choose a random index then we start  crossing the chromosomes over. we used 1-point crossover here.<br>\n",
    "after we performed crossover on our chromosomes, then we perform mutation on them with the possibility of $P_m$.<br>\n",
    "to perform mutation we generate a random number between 0 and 1 and if it was less than $P_m$ then we perform mutation and if it wasn't, then we don't. we do this for both of the chosen chromosomes after performing crossover on them.<br></strong>\n",
    "<br>"
   ]
  },
  {
   "cell_type": "code",
   "execution_count": 3,
   "metadata": {},
   "outputs": [],
   "source": [
    "df = pd.read_csv('truth_table.csv')\n",
    "gates = len(df.columns) - 2\n",
    "gate_dic = {1 : \"AND\", 2: \"OR\", 3 : \"XOR\", 4 : \"NAND\", 5 : \"NOR\", 6 : \"XNOR\"}\n",
    "count = 2 ** (gates-1)\n",
    "population = [[] for i in range(count)]\n",
    "length = len(population)\n",
    "for i in range(count):\n",
    "    for j in range(gates):\n",
    "        population[i].append(random.randint(1, 6))\n",
    "fitness = fitness_calc(population, df)\n",
    "s = sum(fitness)\n",
    "p = [0 for i in range(len(fitness))]\n",
    "for i in range(len(fitness)):\n",
    "    p[i] = fitness[i] / s"
   ]
  },
  {
   "cell_type": "code",
   "execution_count": 4,
   "metadata": {
    "scrolled": false
   },
   "outputs": [
    {
     "name": "stdout",
     "output_type": "stream",
     "text": [
      "Gates : NAND XNOR OR XNOR AND OR NAND XNOR NOR \n",
      "4.349992513656616 seconds\n"
     ]
    }
   ],
   "source": [
    "pc = 0.8\n",
    "pm = 0.1\n",
    "last_gen = population\n",
    "last_max = -1\n",
    "t1 = time.time()\n",
    "while True:\n",
    "    new_gen = create_gen(last_gen, gates, p, pc, pm)    \n",
    "    fitness = fitness_calc(new_gen, df)\n",
    "    s = sum(fitness)\n",
    "    for i in range(len(fitness)):\n",
    "        p[i] = fitness[i] / s\n",
    "    if max(fitness) == last_max:\n",
    "        pc += 0.01\n",
    "        pm += 0.01\n",
    "    if(max(fitness) == (2**(gates + 1)) ** 5):\n",
    "        idx = fitness.index(max(fitness))\n",
    "        print(\"Gates : \", end = \"\")\n",
    "        for i in new_gen[idx]:\n",
    "            print(gate_dic[i], end = \" \")\n",
    "        break\n",
    "    last_max = max(fitness)\n",
    "    last_gen = copy.deepcopy(new_gen)\n",
    "print()\n",
    "print(time.time() - t1, \"seconds\")\n"
   ]
  },
  {
   "cell_type": "markdown",
   "metadata": {},
   "source": [
    "<strong>we repeat the steps discussed above untill we find a certain answer that matches all the outputs in the file.<br>\n",
    "after testing diffrent possibilities we concluded that the best choice for $P_c$ is between 0.75 and 0.85.\n",
    "and it is 0.1 for $P_m$ as it should be much less than $P_c$.<br>\n",
    "every time we have a generation like the last one, we simply increase our possibilities by 0.01.</strong>"
   ]
  },
  {
   "cell_type": "markdown",
   "metadata": {},
   "source": [
    "# پرسش ها \n",
    "۱)\n",
    "دلیل انتخاب معیار تناسب ما این است که ما باید مجموعه ای را پیدا کنیم که تمام خروجی های آن به ازای ورودی های داده شده با خروجی های موجود در فایل مورد نظر یکسان باشد.و دلیل اینکه ما توانی از ۵ این مقدار را انتخاب کرده ایم این است که احتمال انتخاب هر کروموزومی که به جواب نزدیکتر است بیشتر میشود و اینکه تغییرات نسل قبلی با نسل بعدی به صورت خطی نخواهد بود"
   ]
  },
  {
   "cell_type": "markdown",
   "metadata": {},
   "source": [
    "۲)\n",
    "با احتمال داده شده به تابع ۲ نفر از افراد جمعیت را انتخاب کرده و روی آنها الگوریتم های ذکر شده را پیاده سازی میکنیم.\n"
   ]
  },
  {
   "cell_type": "markdown",
   "metadata": {},
   "source": [
    "۳)\n",
    "crossover:\n",
    "این عمل باعث میشود که اگر قسمتی از ژن های انتخاب شده مناسب باشند و قسمتی دیگر نامناسب احتمال اینکه قسمت نامناسب دور انداخته شود بالااست و با این کار قسمتی که از نظر ما مناسب است با قسمتی از کروموزوم دیگر ترکیب میشود که مارا به جواب نزدیکتر میکند\n",
    "mutation:\n",
    "این عمل پس از هر بار کراس اوور انجام میشود به این دلیل که ممکن است هر بار پس از انجام این عملیات در حالت خاصی گیر کرده باشیم با تغییر  جزئی روی این کروموزوم ها میتوان از این حالت بیرون آمد و به جواب نزدیکتر شد\n"
   ]
  },
  {
   "cell_type": "markdown",
   "metadata": {},
   "source": [
    "۴)\n",
    "در صورتی که این اتفاق برای ما پیش بیاید به این معنی است که در یک نقطه ی ماکسیمم محلی گیر افتاده ایم و باید از این نقطه بیرون بیاییم.برای این کار ما کافی است که احتمال های \n",
    "<br>pc, pm <br>\n",
    "را مقداری بیشتر کنیم که با تست های انجام شده مقدار مناسب برای این کار 0.01 است"
   ]
  }
 ],
 "metadata": {
  "kernelspec": {
   "display_name": "Python 3",
   "language": "python",
   "name": "python3"
  },
  "language_info": {
   "codemirror_mode": {
    "name": "ipython",
    "version": 3
   },
   "file_extension": ".py",
   "mimetype": "text/x-python",
   "name": "python",
   "nbconvert_exporter": "python",
   "pygments_lexer": "ipython3",
   "version": "3.8.6"
  }
 },
 "nbformat": 4,
 "nbformat_minor": 4
}
